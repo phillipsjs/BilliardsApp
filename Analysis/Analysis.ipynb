{
 "cells": [
  {
   "cell_type": "code",
   "execution_count": 1,
   "outputs": [],
   "source": [
    "from Experiment_1.trajectory_plots import plotAllTrajectories, reformat_condition_data\n",
    "import pandas as pd\n",
    "from glob import glob\n",
    "import os\n",
    "#from wand.image import Image as WImage\n",
    "import matplotlib.pyplot as plt\n",
    "\n"
   ],
   "metadata": {
    "collapsed": false,
    "pycharm": {
     "name": "#%%\n"
    }
   }
  },
  {
   "cell_type": "markdown",
   "source": [
    "# Experiment 1\n",
    "\n",
    "Research Question: Do people attribute more causal responsibility to agents than objects?\n",
    "## Stimulus\n",
    "conditions\n",
    "2 x 2 x 2\n",
    "Agent (Animate vs Inanimate)\n",
    "Outcome (in vs. out)\n",
    "Counterfactual (in vs out)\n",
    "\n",
    "\n",
    "| Condition                | Agent = Animate                                                       | Agent = Inanimate                                                     |\n",
    "|--------------------------|-----------------------------------------------------------------------|-----------------------------------------------------------------------|\n",
    "| Outcome = In  / CF = Out | ![SegmentLocal](Experiment_1/Figures/gifs/3_a_in_out.gif \"segment\")   | ![SegmentLocal](Experiment_1/Figures/gifs/3_p_in_out.gif \"segment\")   |\n",
    "| Outcome = Out / CF = In  | ![SegmentLocal](Experiment_1/Figures/gifs/19_a_out_in.gif \"segment\")  | ![SegmentLocal](Experiment_1/Figures/gifs/19_p_out_in.gif \"segment\")  |\n",
    "| Outcome = In / CF = In   | ![SegmentLocal](Experiment_1/Figures/gifs/12_a_in_in.gif \"segment\")   | ![SegmentLocal](Experiment_1/Figures/gifs/12_p_in_in.gif \"segment\")   |\n",
    "| Outcome = Out / CF = Out | ![SegmentLocal](Experiment_1/Figures/gifs/16_a_out_out.gif \"segment\") | ![SegmentLocal](Experiment_1/Figures/gifs/16_p_out_out.gif \"segment\") |\n"
   ],
   "metadata": {
    "collapsed": false,
    "pycharm": {
     "name": "#%% md\n"
    }
   }
  },
  {
   "cell_type": "code",
   "execution_count": 2,
   "outputs": [
    {
     "data": {
      "text/plain": "<Figure size 1080x0 with 0 Axes>"
     },
     "metadata": {},
     "output_type": "display_data"
    }
   ],
   "source": [
    "dat = pd.read_csv('../Data/Experiment_1/experiment_data_10_29_2021.csv', index_col=0)\n",
    "anim_trajFiles = sorted(glob(os.path.join('../Experiment_1/collisions/trajectory_files', '*_a_*')))\n",
    "phys_trajFiles = sorted(glob(os.path.join('../Experiment_1/collisions/trajectory_files', '*_p_*')))\n",
    "cf_trajFiles = sorted(glob(os.path.join('../Experiment_1/collisions/trajectory_files', '*_cf_*')))\n",
    "v_dat = reformat_condition_data(dat, anim_trajFiles, phys_trajFiles, cf_trajFiles)\n",
    "f, ax = plt.subplots(figsize=(15, (5*len(phys_trajFiles))), ncols=3, nrows=len(phys_trajFiles),  sharey=True)\n",
    "\n",
    "ff = plotAllTrajectories(f, ax, anim_trajFiles, phys_trajFiles, cf_trajFiles, vid_dat=v_dat);\n"
   ],
   "metadata": {
    "collapsed": false,
    "pycharm": {
     "name": "#%%\n"
    }
   }
  },
  {
   "cell_type": "code",
   "execution_count": 3,
   "outputs": [
    {
     "ename": "UnidentifiedImageError",
     "evalue": "cannot identify image file 'Experiment_1/Figures/pocket_proxim.pdf'",
     "output_type": "error",
     "traceback": [
      "\u001B[0;31m---------------------------------------------------------------------------\u001B[0m",
      "\u001B[0;31mUnidentifiedImageError\u001B[0m                    Traceback (most recent call last)",
      "\u001B[0;32m<ipython-input-3-d8d81852f0f8>\u001B[0m in \u001B[0;36m<module>\u001B[0;34m\u001B[0m\n\u001B[0;32m----> 1\u001B[0;31m \u001B[0mexp1_stim\u001B[0m \u001B[0;34m=\u001B[0m \u001B[0mplt\u001B[0m\u001B[0;34m.\u001B[0m\u001B[0mimread\u001B[0m\u001B[0;34m(\u001B[0m\u001B[0;34m'Experiment_1/Figures/pocket_proxim.pdf'\u001B[0m\u001B[0;34m)\u001B[0m\u001B[0;34m\u001B[0m\u001B[0;34m\u001B[0m\u001B[0m\n\u001B[0m\u001B[1;32m      2\u001B[0m \u001B[0mplt\u001B[0m\u001B[0;34m.\u001B[0m\u001B[0mimshow\u001B[0m\u001B[0;34m(\u001B[0m\u001B[0mexp1_stim\u001B[0m\u001B[0;34m)\u001B[0m\u001B[0;34m\u001B[0m\u001B[0;34m\u001B[0m\u001B[0m\n",
      "\u001B[0;32m/Library/Frameworks/Python.framework/Versions/3.8/lib/python3.8/site-packages/matplotlib/pyplot.py\u001B[0m in \u001B[0;36mimread\u001B[0;34m(fname, format)\u001B[0m\n\u001B[1;32m   2126\u001B[0m \u001B[0;34m@\u001B[0m\u001B[0mdocstring\u001B[0m\u001B[0;34m.\u001B[0m\u001B[0mcopy\u001B[0m\u001B[0;34m(\u001B[0m\u001B[0mmatplotlib\u001B[0m\u001B[0;34m.\u001B[0m\u001B[0mimage\u001B[0m\u001B[0;34m.\u001B[0m\u001B[0mimread\u001B[0m\u001B[0;34m)\u001B[0m\u001B[0;34m\u001B[0m\u001B[0;34m\u001B[0m\u001B[0m\n\u001B[1;32m   2127\u001B[0m \u001B[0;32mdef\u001B[0m \u001B[0mimread\u001B[0m\u001B[0;34m(\u001B[0m\u001B[0mfname\u001B[0m\u001B[0;34m,\u001B[0m \u001B[0mformat\u001B[0m\u001B[0;34m=\u001B[0m\u001B[0;32mNone\u001B[0m\u001B[0;34m)\u001B[0m\u001B[0;34m:\u001B[0m\u001B[0;34m\u001B[0m\u001B[0;34m\u001B[0m\u001B[0m\n\u001B[0;32m-> 2128\u001B[0;31m     \u001B[0;32mreturn\u001B[0m \u001B[0mmatplotlib\u001B[0m\u001B[0;34m.\u001B[0m\u001B[0mimage\u001B[0m\u001B[0;34m.\u001B[0m\u001B[0mimread\u001B[0m\u001B[0;34m(\u001B[0m\u001B[0mfname\u001B[0m\u001B[0;34m,\u001B[0m \u001B[0mformat\u001B[0m\u001B[0;34m)\u001B[0m\u001B[0;34m\u001B[0m\u001B[0;34m\u001B[0m\u001B[0m\n\u001B[0m\u001B[1;32m   2129\u001B[0m \u001B[0;34m\u001B[0m\u001B[0m\n\u001B[1;32m   2130\u001B[0m \u001B[0;34m\u001B[0m\u001B[0m\n",
      "\u001B[0;32m/Library/Frameworks/Python.framework/Versions/3.8/lib/python3.8/site-packages/matplotlib/image.py\u001B[0m in \u001B[0;36mimread\u001B[0;34m(fname, format)\u001B[0m\n\u001B[1;32m   1415\u001B[0m                              \u001B[0;34m'with Pillow installed matplotlib can handle '\u001B[0m\u001B[0;34m\u001B[0m\u001B[0;34m\u001B[0m\u001B[0m\n\u001B[1;32m   1416\u001B[0m                              'more images' % list(handlers))\n\u001B[0;32m-> 1417\u001B[0;31m         \u001B[0;32mwith\u001B[0m \u001B[0mImage\u001B[0m\u001B[0;34m.\u001B[0m\u001B[0mopen\u001B[0m\u001B[0;34m(\u001B[0m\u001B[0mfname\u001B[0m\u001B[0;34m)\u001B[0m \u001B[0;32mas\u001B[0m \u001B[0mimage\u001B[0m\u001B[0;34m:\u001B[0m\u001B[0;34m\u001B[0m\u001B[0;34m\u001B[0m\u001B[0m\n\u001B[0m\u001B[1;32m   1418\u001B[0m             \u001B[0;32mreturn\u001B[0m \u001B[0mpil_to_array\u001B[0m\u001B[0;34m(\u001B[0m\u001B[0mimage\u001B[0m\u001B[0;34m)\u001B[0m\u001B[0;34m\u001B[0m\u001B[0;34m\u001B[0m\u001B[0m\n\u001B[1;32m   1419\u001B[0m \u001B[0;34m\u001B[0m\u001B[0m\n",
      "\u001B[0;32m~/Library/Python/3.8/lib/python/site-packages/PIL/Image.py\u001B[0m in \u001B[0;36mopen\u001B[0;34m(fp, mode)\u001B[0m\n\u001B[1;32m   2859\u001B[0m     \u001B[0;32mfor\u001B[0m \u001B[0mmessage\u001B[0m \u001B[0;32min\u001B[0m \u001B[0maccept_warnings\u001B[0m\u001B[0;34m:\u001B[0m\u001B[0;34m\u001B[0m\u001B[0;34m\u001B[0m\u001B[0m\n\u001B[1;32m   2860\u001B[0m         \u001B[0mwarnings\u001B[0m\u001B[0;34m.\u001B[0m\u001B[0mwarn\u001B[0m\u001B[0;34m(\u001B[0m\u001B[0mmessage\u001B[0m\u001B[0;34m)\u001B[0m\u001B[0;34m\u001B[0m\u001B[0;34m\u001B[0m\u001B[0m\n\u001B[0;32m-> 2861\u001B[0;31m     raise UnidentifiedImageError(\n\u001B[0m\u001B[1;32m   2862\u001B[0m         \u001B[0;34m\"cannot identify image file %r\"\u001B[0m \u001B[0;34m%\u001B[0m \u001B[0;34m(\u001B[0m\u001B[0mfilename\u001B[0m \u001B[0;32mif\u001B[0m \u001B[0mfilename\u001B[0m \u001B[0;32melse\u001B[0m \u001B[0mfp\u001B[0m\u001B[0;34m)\u001B[0m\u001B[0;34m\u001B[0m\u001B[0;34m\u001B[0m\u001B[0m\n\u001B[1;32m   2863\u001B[0m     )\n",
      "\u001B[0;31mUnidentifiedImageError\u001B[0m: cannot identify image file 'Experiment_1/Figures/pocket_proxim.pdf'"
     ]
    }
   ],
   "source": [
    "exp1_stim = plt.imread('Experiment_1/Figures/pocket_proxim.pdf')\n",
    "plt.imshow(exp1_stim)"
   ],
   "metadata": {
    "collapsed": false,
    "pycharm": {
     "name": "#%%\n"
    }
   }
  },
  {
   "cell_type": "code",
   "execution_count": 4,
   "outputs": [
    {
     "name": "stderr",
     "output_type": "stream",
     "text": [
      "<ipython-input-4-5c53a1f94434>:1: UserWarning: Matplotlib is currently using module://ipykernel.pylab.backend_inline, which is a non-GUI backend, so cannot show the figure.\n",
      "  ff.show()\n"
     ]
    }
   ],
   "source": [
    "ff.show()"
   ],
   "metadata": {
    "collapsed": false,
    "pycharm": {
     "name": "#%%\n"
    }
   }
  },
  {
   "cell_type": "code",
   "execution_count": null,
   "outputs": [],
   "source": [],
   "metadata": {
    "collapsed": false,
    "pycharm": {
     "name": "#%%\n"
    }
   }
  }
 ],
 "metadata": {
  "kernelspec": {
   "display_name": "Python 3",
   "language": "python",
   "name": "python3"
  },
  "language_info": {
   "codemirror_mode": {
    "name": "ipython",
    "version": 2
   },
   "file_extension": ".py",
   "mimetype": "text/x-python",
   "name": "python",
   "nbconvert_exporter": "python",
   "pygments_lexer": "ipython2",
   "version": "2.7.6"
  }
 },
 "nbformat": 4,
 "nbformat_minor": 0
}