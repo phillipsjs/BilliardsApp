{
 "cells": [
  {
   "cell_type": "code",
   "execution_count": 1,
   "metadata": {
    "collapsed": true
   },
   "outputs": [],
   "source": [
    "import sqlite3\n",
    "\n",
    "import matplotlib.pyplot as plt\n",
    "import pandas as pd\n",
    "from ast import literal_eval\n",
    "from operator import itemgetter\n",
    "import seaborn as sns\n",
    "sns.set_context('notebook')\n",
    "sns.set_style('white')"
   ]
  },
  {
   "cell_type": "code",
   "execution_count": 2,
   "outputs": [
    {
     "data": {
      "text/plain": "                    id  date  prolificID  jspsychID  completion  \\\nexp_cond                                                          \nanimate_moral       25    25          25         25          25   \nanimate_rational    32    32          32         32          32   \ninanimate_moral     12    12          12         12          12   \ninanimate_rational  19    19          19         19          19   \n\n                    compelete_time  \nexp_cond                            \nanimate_moral                    0  \nanimate_rational                 0  \ninanimate_moral                  0  \ninanimate_rational               0  ",
      "text/html": "<div>\n<style scoped>\n    .dataframe tbody tr th:only-of-type {\n        vertical-align: middle;\n    }\n\n    .dataframe tbody tr th {\n        vertical-align: top;\n    }\n\n    .dataframe thead th {\n        text-align: right;\n    }\n</style>\n<table border=\"1\" class=\"dataframe\">\n  <thead>\n    <tr style=\"text-align: right;\">\n      <th></th>\n      <th>id</th>\n      <th>date</th>\n      <th>prolificID</th>\n      <th>jspsychID</th>\n      <th>completion</th>\n      <th>compelete_time</th>\n    </tr>\n    <tr>\n      <th>exp_cond</th>\n      <th></th>\n      <th></th>\n      <th></th>\n      <th></th>\n      <th></th>\n      <th></th>\n    </tr>\n  </thead>\n  <tbody>\n    <tr>\n      <th>animate_moral</th>\n      <td>25</td>\n      <td>25</td>\n      <td>25</td>\n      <td>25</td>\n      <td>25</td>\n      <td>0</td>\n    </tr>\n    <tr>\n      <th>animate_rational</th>\n      <td>32</td>\n      <td>32</td>\n      <td>32</td>\n      <td>32</td>\n      <td>32</td>\n      <td>0</td>\n    </tr>\n    <tr>\n      <th>inanimate_moral</th>\n      <td>12</td>\n      <td>12</td>\n      <td>12</td>\n      <td>12</td>\n      <td>12</td>\n      <td>0</td>\n    </tr>\n    <tr>\n      <th>inanimate_rational</th>\n      <td>19</td>\n      <td>19</td>\n      <td>19</td>\n      <td>19</td>\n      <td>19</td>\n      <td>0</td>\n    </tr>\n  </tbody>\n</table>\n</div>"
     },
     "execution_count": 2,
     "metadata": {},
     "output_type": "execute_result"
    }
   ],
   "source": [
    "conn = sqlite3.connect('../../Data/Experiment_3/Bryan_exp3_remote.db')\n",
    "dat = pd.read_sql('SELECT * FROM trials A INNER JOIN subjects B ON A.subject_id = B.id WHERE B.completion=1', con=conn)\n",
    "subs = pd.read_sql('SELECT * FROM subjects', conn)\n",
    "subs.loc[subs.completion == 1].groupby('exp_cond').count()"
   ],
   "metadata": {
    "collapsed": false,
    "pycharm": {
     "name": "#%%\n"
    }
   }
  },
  {
   "cell_type": "code",
   "execution_count": 5,
   "outputs": [],
   "source": [
    "\n",
    "anim = dat.loc[(dat.anim_check == 1) &\n",
    "              (dat.tower_check == 1 ) & (dat.agent_check==1)]\n",
    "\n",
    "inanim = dat[['inanim' in x for x in dat.exp_cond]]\n",
    "inanim = inanim.loc[(dat.anim_check == 1) & (dat.tower_check == 1 )]\n",
    "\n",
    "dat = pd.concat([anim, inanim])"
   ],
   "metadata": {
    "collapsed": false,
    "pycharm": {
     "name": "#%%\n"
    }
   }
  },
  {
   "cell_type": "code",
   "execution_count": 6,
   "outputs": [
    {
     "data": {
      "text/plain": "77"
     },
     "execution_count": 6,
     "metadata": {},
     "output_type": "execute_result"
    }
   ],
   "source": [
    "dat = pd.DataFrame(dat.values[:,~dat.columns.duplicated()], columns=dat.columns[~dat.columns.duplicated()])\n",
    "\n",
    "len(dat.prolificID.unique())"
   ],
   "metadata": {
    "collapsed": false,
    "pycharm": {
     "name": "#%%\n"
    }
   }
  },
  {
   "cell_type": "code",
   "execution_count": 7,
   "outputs": [
    {
     "data": {
      "text/plain": "                    id  prolificID  jspsychID  time_elapse  Q0  Q1  Q2  Q3  \\\nexp_cond                                                                     \nanimate_moral       25          25         25           25  25  25  25  25   \nanimate_rational    32          32         32           32  32  32  32  32   \ninanimate_moral     12          12         12           12  12  12  12  12   \ninanimate_rational  10          10         10           10  10  10  10  10   \n\n                    Q0_rt  Q1_rt  ...  Q3_rt  anim_check  tower_check  \\\nexp_cond                          ...                                   \nanimate_moral          25     25  ...     25          25           25   \nanimate_rational       32     32  ...     32          32           32   \ninanimate_moral        12     12  ...     12          12           12   \ninanimate_rational     10     10  ...     10          10           10   \n\n                    agent_check  sub_feedback1  sub_feedback2  subject_id  \\\nexp_cond                                                                    \nanimate_moral                25             25             25          25   \nanimate_rational             32             32             32          32   \ninanimate_moral              12             12             12          12   \ninanimate_rational           10              9              9          10   \n\n                    date  completion  compelete_time  \nexp_cond                                              \nanimate_moral         25          25               0  \nanimate_rational      32          32               0  \ninanimate_moral       12          12               0  \ninanimate_rational    10          10               0  \n\n[4 rows x 21 columns]",
      "text/html": "<div>\n<style scoped>\n    .dataframe tbody tr th:only-of-type {\n        vertical-align: middle;\n    }\n\n    .dataframe tbody tr th {\n        vertical-align: top;\n    }\n\n    .dataframe thead th {\n        text-align: right;\n    }\n</style>\n<table border=\"1\" class=\"dataframe\">\n  <thead>\n    <tr style=\"text-align: right;\">\n      <th></th>\n      <th>id</th>\n      <th>prolificID</th>\n      <th>jspsychID</th>\n      <th>time_elapse</th>\n      <th>Q0</th>\n      <th>Q1</th>\n      <th>Q2</th>\n      <th>Q3</th>\n      <th>Q0_rt</th>\n      <th>Q1_rt</th>\n      <th>...</th>\n      <th>Q3_rt</th>\n      <th>anim_check</th>\n      <th>tower_check</th>\n      <th>agent_check</th>\n      <th>sub_feedback1</th>\n      <th>sub_feedback2</th>\n      <th>subject_id</th>\n      <th>date</th>\n      <th>completion</th>\n      <th>compelete_time</th>\n    </tr>\n    <tr>\n      <th>exp_cond</th>\n      <th></th>\n      <th></th>\n      <th></th>\n      <th></th>\n      <th></th>\n      <th></th>\n      <th></th>\n      <th></th>\n      <th></th>\n      <th></th>\n      <th></th>\n      <th></th>\n      <th></th>\n      <th></th>\n      <th></th>\n      <th></th>\n      <th></th>\n      <th></th>\n      <th></th>\n      <th></th>\n      <th></th>\n    </tr>\n  </thead>\n  <tbody>\n    <tr>\n      <th>animate_moral</th>\n      <td>25</td>\n      <td>25</td>\n      <td>25</td>\n      <td>25</td>\n      <td>25</td>\n      <td>25</td>\n      <td>25</td>\n      <td>25</td>\n      <td>25</td>\n      <td>25</td>\n      <td>...</td>\n      <td>25</td>\n      <td>25</td>\n      <td>25</td>\n      <td>25</td>\n      <td>25</td>\n      <td>25</td>\n      <td>25</td>\n      <td>25</td>\n      <td>25</td>\n      <td>0</td>\n    </tr>\n    <tr>\n      <th>animate_rational</th>\n      <td>32</td>\n      <td>32</td>\n      <td>32</td>\n      <td>32</td>\n      <td>32</td>\n      <td>32</td>\n      <td>32</td>\n      <td>32</td>\n      <td>32</td>\n      <td>32</td>\n      <td>...</td>\n      <td>32</td>\n      <td>32</td>\n      <td>32</td>\n      <td>32</td>\n      <td>32</td>\n      <td>32</td>\n      <td>32</td>\n      <td>32</td>\n      <td>32</td>\n      <td>0</td>\n    </tr>\n    <tr>\n      <th>inanimate_moral</th>\n      <td>12</td>\n      <td>12</td>\n      <td>12</td>\n      <td>12</td>\n      <td>12</td>\n      <td>12</td>\n      <td>12</td>\n      <td>12</td>\n      <td>12</td>\n      <td>12</td>\n      <td>...</td>\n      <td>12</td>\n      <td>12</td>\n      <td>12</td>\n      <td>12</td>\n      <td>12</td>\n      <td>12</td>\n      <td>12</td>\n      <td>12</td>\n      <td>12</td>\n      <td>0</td>\n    </tr>\n    <tr>\n      <th>inanimate_rational</th>\n      <td>10</td>\n      <td>10</td>\n      <td>10</td>\n      <td>10</td>\n      <td>10</td>\n      <td>10</td>\n      <td>10</td>\n      <td>10</td>\n      <td>10</td>\n      <td>10</td>\n      <td>...</td>\n      <td>10</td>\n      <td>10</td>\n      <td>10</td>\n      <td>10</td>\n      <td>9</td>\n      <td>9</td>\n      <td>10</td>\n      <td>10</td>\n      <td>10</td>\n      <td>0</td>\n    </tr>\n  </tbody>\n</table>\n<p>4 rows × 21 columns</p>\n</div>"
     },
     "execution_count": 7,
     "metadata": {},
     "output_type": "execute_result"
    }
   ],
   "source": [
    "dat.groupby('exp_cond').count()"
   ],
   "metadata": {
    "collapsed": false,
    "pycharm": {
     "name": "#%%\n"
    }
   }
  },
  {
   "cell_type": "code",
   "execution_count": 8,
   "outputs": [],
   "source": [
    "dat = dat.loc[dat.completion ==1].reset_index(drop=True)"
   ],
   "metadata": {
    "collapsed": false,
    "pycharm": {
     "name": "#%%\n"
    }
   }
  },
  {
   "cell_type": "code",
   "execution_count": 9,
   "outputs": [
    {
     "data": {
      "text/plain": "                    id  prolificID  jspsychID  time_elapse  Q0  Q1  Q2  Q3  \\\nexp_cond                                                                     \nanimate_moral       25          25         25           25  25  25  25  25   \nanimate_rational    32          32         32           32  32  32  32  32   \ninanimate_moral     12          12         12           12  12  12  12  12   \ninanimate_rational  10          10         10           10  10  10  10  10   \n\n                    Q0_rt  Q1_rt  ...  Q3_rt  anim_check  tower_check  \\\nexp_cond                          ...                                   \nanimate_moral          25     25  ...     25          25           25   \nanimate_rational       32     32  ...     32          32           32   \ninanimate_moral        12     12  ...     12          12           12   \ninanimate_rational     10     10  ...     10          10           10   \n\n                    agent_check  sub_feedback1  sub_feedback2  subject_id  \\\nexp_cond                                                                    \nanimate_moral                25             25             25          25   \nanimate_rational             32             32             32          32   \ninanimate_moral              12             12             12          12   \ninanimate_rational           10              9              9          10   \n\n                    date  completion  compelete_time  \nexp_cond                                              \nanimate_moral         25          25               0  \nanimate_rational      32          32               0  \ninanimate_moral       12          12               0  \ninanimate_rational    10          10               0  \n\n[4 rows x 21 columns]",
      "text/html": "<div>\n<style scoped>\n    .dataframe tbody tr th:only-of-type {\n        vertical-align: middle;\n    }\n\n    .dataframe tbody tr th {\n        vertical-align: top;\n    }\n\n    .dataframe thead th {\n        text-align: right;\n    }\n</style>\n<table border=\"1\" class=\"dataframe\">\n  <thead>\n    <tr style=\"text-align: right;\">\n      <th></th>\n      <th>id</th>\n      <th>prolificID</th>\n      <th>jspsychID</th>\n      <th>time_elapse</th>\n      <th>Q0</th>\n      <th>Q1</th>\n      <th>Q2</th>\n      <th>Q3</th>\n      <th>Q0_rt</th>\n      <th>Q1_rt</th>\n      <th>...</th>\n      <th>Q3_rt</th>\n      <th>anim_check</th>\n      <th>tower_check</th>\n      <th>agent_check</th>\n      <th>sub_feedback1</th>\n      <th>sub_feedback2</th>\n      <th>subject_id</th>\n      <th>date</th>\n      <th>completion</th>\n      <th>compelete_time</th>\n    </tr>\n    <tr>\n      <th>exp_cond</th>\n      <th></th>\n      <th></th>\n      <th></th>\n      <th></th>\n      <th></th>\n      <th></th>\n      <th></th>\n      <th></th>\n      <th></th>\n      <th></th>\n      <th></th>\n      <th></th>\n      <th></th>\n      <th></th>\n      <th></th>\n      <th></th>\n      <th></th>\n      <th></th>\n      <th></th>\n      <th></th>\n      <th></th>\n    </tr>\n  </thead>\n  <tbody>\n    <tr>\n      <th>animate_moral</th>\n      <td>25</td>\n      <td>25</td>\n      <td>25</td>\n      <td>25</td>\n      <td>25</td>\n      <td>25</td>\n      <td>25</td>\n      <td>25</td>\n      <td>25</td>\n      <td>25</td>\n      <td>...</td>\n      <td>25</td>\n      <td>25</td>\n      <td>25</td>\n      <td>25</td>\n      <td>25</td>\n      <td>25</td>\n      <td>25</td>\n      <td>25</td>\n      <td>25</td>\n      <td>0</td>\n    </tr>\n    <tr>\n      <th>animate_rational</th>\n      <td>32</td>\n      <td>32</td>\n      <td>32</td>\n      <td>32</td>\n      <td>32</td>\n      <td>32</td>\n      <td>32</td>\n      <td>32</td>\n      <td>32</td>\n      <td>32</td>\n      <td>...</td>\n      <td>32</td>\n      <td>32</td>\n      <td>32</td>\n      <td>32</td>\n      <td>32</td>\n      <td>32</td>\n      <td>32</td>\n      <td>32</td>\n      <td>32</td>\n      <td>0</td>\n    </tr>\n    <tr>\n      <th>inanimate_moral</th>\n      <td>12</td>\n      <td>12</td>\n      <td>12</td>\n      <td>12</td>\n      <td>12</td>\n      <td>12</td>\n      <td>12</td>\n      <td>12</td>\n      <td>12</td>\n      <td>12</td>\n      <td>...</td>\n      <td>12</td>\n      <td>12</td>\n      <td>12</td>\n      <td>12</td>\n      <td>12</td>\n      <td>12</td>\n      <td>12</td>\n      <td>12</td>\n      <td>12</td>\n      <td>0</td>\n    </tr>\n    <tr>\n      <th>inanimate_rational</th>\n      <td>10</td>\n      <td>10</td>\n      <td>10</td>\n      <td>10</td>\n      <td>10</td>\n      <td>10</td>\n      <td>10</td>\n      <td>10</td>\n      <td>10</td>\n      <td>10</td>\n      <td>...</td>\n      <td>10</td>\n      <td>10</td>\n      <td>10</td>\n      <td>10</td>\n      <td>9</td>\n      <td>9</td>\n      <td>10</td>\n      <td>10</td>\n      <td>10</td>\n      <td>0</td>\n    </tr>\n  </tbody>\n</table>\n<p>4 rows × 21 columns</p>\n</div>"
     },
     "execution_count": 9,
     "metadata": {},
     "output_type": "execute_result"
    }
   ],
   "source": [
    "dat.groupby('exp_cond').count()"
   ],
   "metadata": {
    "collapsed": false,
    "pycharm": {
     "name": "#%%\n"
    }
   }
  },
  {
   "cell_type": "code",
   "execution_count": null,
   "outputs": [],
   "source": [],
   "metadata": {
    "collapsed": false,
    "pycharm": {
     "name": "#%%\n"
    }
   }
  }
 ],
 "metadata": {
  "kernelspec": {
   "name": "pycharm-662f1849",
   "language": "python",
   "display_name": "PyCharm (TheoryOfMindInferenceModels)"
  },
  "language_info": {
   "codemirror_mode": {
    "name": "ipython",
    "version": 2
   },
   "file_extension": ".py",
   "mimetype": "text/x-python",
   "name": "python",
   "nbconvert_exporter": "python",
   "pygments_lexer": "ipython2",
   "version": "2.7.6"
  }
 },
 "nbformat": 4,
 "nbformat_minor": 0
}