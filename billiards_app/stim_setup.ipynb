{
 "cells": [
  {
   "cell_type": "code",
   "execution_count": 1,
   "metadata": {
    "collapsed": true
   },
   "outputs": [],
   "source": [
    "\n",
    "import os\n",
    "import pandas as pd\n",
    "import numpy as np\n",
    "from glob import glob\n",
    "\n",
    "# set up conditions\n",
    "n_trials = 48\n",
    "df = pd.DataFrame({'trial': range(1, n_trials+1),\n",
    "                   'animate': np.concatenate([np.repeat('a', n_trials/2), np.repeat('p', n_trials/2)]),\n",
    "                   'outcome': np.tile(np.concatenate([np.repeat(True, n_trials/4), np.repeat(False, n_trials/4)]), 2),\n",
    "                   'counterfct': np.tile(np.concatenate([np.repeat(True, n_trials/8), np.repeat(False, n_trials/8)]), 4),\n",
    "                   }).sample(frac=1).reset_index(drop=True)\n",
    "df['trial'] = range(1, n_trials+1)\n",
    "df.replace([True, False], ['in', 'out'], inplace=True)\n",
    "\n",
    "# Set up stimulus order\n",
    "stim_order = []\n",
    "prompts = []\n",
    "vid_fils = glob(os.path.join('static/videos/', '*'))\n",
    "\n",
    "prompt3 = '<p style=\"font-size: 1.5em;\"><span style=\"font-weight: bold; color: #ee7171;\">Ball A</span> seemed: </p>'\n",
    "for trl in range(n_trials):\n",
    "    prompt1 = '<p>Please rate the extent to which you agree with the following: </p><p style=\"font-size: 1.5em;\"><span style=\"font-weight: bold; color: #ee7171;\">Ball A</span>'\n",
    "    prompt2 = '<p style=\"font-size: 1.5em;\">If <span style=\"font-weight: bold; color: #ee7171;\">Ball A</span> had not been there,'\n",
    "    stim = df.iloc[trl]\n",
    "    cond_stim = [v for v in vid_fils if stim.animate+'_'+stim.outcome+'_'+stim.counterfct in v]\n",
    "    trl_stim = cond_stim[np.random.randint(len(cond_stim))]\n",
    "    vid_fils.remove(trl_stim)\n",
    "    stim_order.append([trl_stim])\n",
    "    if stim.outcome == 'in':\n",
    "        prompt1 += ' caused <span style=\"font-weight: bold; color: #6c6ce9;\">Ball B</span> to land in the pocket.</p>'\n",
    "        #prompt2 += ' <span style=\"font-style: italic\">would have missed</span> the pocket if <span style=\"font-weight: bold; color: #ee7171;\">ball A</span> were not present.</p>.'\n",
    "        prompt2 += ' <span style=\"font-weight: bold; color: #6c6ce9;\">Ball B</span> would have landed in the pocket.</p>'\n",
    "\n",
    "    else:\n",
    "        prompt1 += ' caused <span style=\"font-weight: bold; color: #6c6ce9;\">Ball B</span> to miss the pocket.</p>'\n",
    "        #prompt2 += ' <span style=\"font-style: italic\">would have</span> landed in the pocket if <span style=\"font-weight: bold; color: #ee7171;\">ball A</span> were not present.</p>.'\n",
    "        prompt2 += ' <span style=\"font-weight: bold; color: #6c6ce9;\">Ball B</span> would have landed in the pocket.</p>'\n",
    "\n",
    "    prompts.append([prompt1, prompt2, prompt3])\n",
    "\n",
    "df['stimulus'] = stim_order\n",
    "df['prompts'] = prompts"
   ]
  },
  {
   "cell_type": "code",
   "execution_count": 2,
   "outputs": [],
   "source": [
    "df[['stimulus', 'prompts']].to_json('static/stimuli_order.js', orient='records')\n",
    "#df[['stimulus', 'prompts']].iloc[:2].to_json('static/stimuli_order.js', orient='records')"
   ],
   "metadata": {
    "collapsed": false,
    "pycharm": {
     "name": "#%%\n"
    }
   }
  },
  {
   "cell_type": "code",
   "execution_count": 3,
   "outputs": [
    {
     "data": {
      "text/plain": "['static/videos/14_p_out_out.mp4',\n 'static/videos/15_a_out_out.mp4',\n 'static/videos/11_p_in_in.mp4',\n 'static/videos/22_a_out_in.mp4',\n 'static/videos/05_p_in_out.mp4',\n 'static/videos/10_a_in_in.mp4',\n 'static/videos/02_p_in_out.mp4',\n 'static/videos/19_p_out_in.mp4',\n 'static/videos/09_a_in_in.mp4',\n 'static/videos/17_p_out_out.mp4',\n 'static/videos/08_p_in_in.mp4',\n 'static/videos/16_a_out_out.mp4',\n 'static/videos/03_p_in_out.mp4',\n 'static/videos/04_p_in_out.mp4',\n 'static/videos/13_p_out_out.mp4',\n 'static/videos/23_a_out_in.mp4',\n 'static/videos/24_a_out_in.mp4',\n 'static/videos/22_p_out_in.mp4',\n 'static/videos/18_a_out_out.mp4',\n 'static/videos/02_a_in_out.mp4',\n 'static/videos/05_a_in_out.mp4',\n 'static/videos/04_a_in_out.mp4',\n 'static/videos/03_a_in_out.mp4',\n 'static/videos/24_p_out_in.mp4',\n 'static/videos/07_p_in_in.mp4',\n 'static/videos/23_p_out_in.mp4',\n 'static/videos/12_p_in_in.mp4',\n 'static/videos/19_a_out_in.mp4',\n 'static/videos/01_a_in_out.mp4',\n 'static/videos/06_a_in_out.mp4',\n 'static/videos/21_p_out_in.mp4',\n 'static/videos/09_p_in_in.mp4',\n 'static/videos/08_a_in_in.mp4',\n 'static/videos/20_p_out_in.mp4',\n 'static/videos/11_a_in_in.mp4',\n 'static/videos/18_p_out_out.mp4',\n 'static/videos/10_p_in_in.mp4',\n 'static/videos/07_a_in_in.mp4',\n 'static/videos/13_a_out_out.mp4',\n 'static/videos/06_p_in_out.mp4',\n 'static/videos/01_p_in_out.mp4',\n 'static/videos/12_a_in_in.mp4',\n 'static/videos/17_a_out_out.mp4',\n 'static/videos/21_a_out_in.mp4',\n 'static/videos/16_p_out_out.mp4',\n 'static/videos/14_a_out_out.mp4',\n 'static/videos/15_p_out_out.mp4',\n 'static/videos/20_a_out_in.mp4']"
     },
     "execution_count": 3,
     "metadata": {},
     "output_type": "execute_result"
    }
   ],
   "source": [
    "glob(os.path.join('static/videos/', '*'))"
   ],
   "metadata": {
    "collapsed": false,
    "pycharm": {
     "name": "#%%\n"
    }
   }
  },
  {
   "cell_type": "code",
   "execution_count": null,
   "outputs": [],
   "source": [],
   "metadata": {
    "collapsed": false,
    "pycharm": {
     "name": "#%%\n"
    }
   }
  }
 ],
 "metadata": {
  "kernelspec": {
   "name": "pycharm-662f1849",
   "language": "python",
   "display_name": "PyCharm (TheoryOfMindInferenceModels)"
  },
  "language_info": {
   "codemirror_mode": {
    "name": "ipython",
    "version": 2
   },
   "file_extension": ".py",
   "mimetype": "text/x-python",
   "name": "python",
   "nbconvert_exporter": "python",
   "pygments_lexer": "ipython2",
   "version": "2.7.6"
  }
 },
 "nbformat": 4,
 "nbformat_minor": 0
}