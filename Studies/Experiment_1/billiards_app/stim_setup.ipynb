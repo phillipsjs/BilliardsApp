{
 "cells": [
  {
   "cell_type": "code",
   "execution_count": 1,
   "metadata": {
    "collapsed": true,
    "pycharm": {
     "name": "#%%\n"
    }
   },
   "outputs": [],
   "source": [
    "\n",
    "import os\n",
    "import pandas as pd\n",
    "import numpy as np\n",
    "from glob import glob\n",
    "\n",
    "# set up conditions\n",
    "n_trials = 48\n",
    "df = pd.DataFrame({'trial': range(1, n_trials+1),\n",
    "                   'animate': np.concatenate([np.repeat('a', n_trials/2), np.repeat('p', n_trials/2)]),\n",
    "                   'outcome': np.tile(np.concatenate([np.repeat(True, n_trials/4), np.repeat(False, n_trials/4)]), 2),\n",
    "                   'counterfct': np.tile(np.concatenate([np.repeat(True, n_trials/8), np.repeat(False, n_trials/8)]), 4),\n",
    "                   }).sample(frac=1).reset_index(drop=True)\n",
    "df['trial'] = range(1, n_trials+1)\n",
    "df.replace([True, False], ['in', 'out'], inplace=True)\n",
    "\n",
    "# Set up stimulus order\n",
    "stim_order = []\n",
    "prompts = []\n",
    "vid_fils = glob(os.path.join('static/videos/', '*'))\n",
    "\n",
    "prompt3 = '<p style=\"font-size: 1.5em;\"><span style=\"font-weight: bold; color: #ee7171;\">Ball A</span> seemed: </p>'\n",
    "for trl in range(n_trials):\n",
    "    prompt1 = '<p>Please rate the extent to which you agree with the following: </p><p style=\"font-size: 1.5em;\"><span style=\"font-weight: bold; color: #ee7171;\">Ball A</span>'\n",
    "    #prompt2 = '<p style=\"font-size: 1.5em;\">If <span style=\"font-weight: bold; color: #ee7171;\">Ball A</span> had not been there,'\n",
    "    stim = df.iloc[trl]\n",
    "    cond_stim = [v for v in vid_fils if stim.animate+'_'+stim.outcome+'_'+stim.counterfct in v]\n",
    "    trl_stim = cond_stim[np.random.randint(len(cond_stim))]\n",
    "    vid_fils.remove(trl_stim)\n",
    "    stim_order.append([trl_stim])\n",
    "    if stim.outcome == 'in':\n",
    "        prompt1 += ' caused <span style=\"font-weight: bold; color: #6c6ce9;\">Ball B</span> to land in the pocket.</p>'\n",
    "        #prompt2 += ' <span style=\"font-weight: bold; color: #6c6ce9;\">Ball B</span> would have missed the pocket.</p>'\n",
    "    else:\n",
    "        prompt1 += ' caused <span style=\"font-weight: bold; color: #6c6ce9;\">Ball B</span> to miss the pocket.</p>'\n",
    "        #prompt2 += ' <span style=\"font-weight: bold; color: #6c6ce9;\">Ball B</span> would have landed in the pocket.</p>'\n",
    "\n",
    "    #prompts.append([prompt1, prompt2, prompt3])\n",
    "    prompts.append([prompt1, prompt3])\n",
    "    #prompts.append([prompt2])\n",
    "\n",
    "df['stimulus'] = stim_order\n",
    "df['prompts'] = prompts"
   ]
  },
  {
   "cell_type": "code",
   "execution_count": 20,
   "outputs": [],
   "source": [
    "df[['stimulus', 'prompts']].to_json('static/stimuli_order.js', orient='records')\n",
    "#df[['stimulus', 'prompts']].iloc[:3].to_json('static/stimuli_order_CF.js', orient='records')"
   ],
   "metadata": {
    "collapsed": false,
    "pycharm": {
     "name": "#%%\n"
    }
   }
  },
  {
   "cell_type": "code",
   "execution_count": 3,
   "outputs": [
    {
     "data": {
      "text/plain": "['<p>Please rate the extent to which you agree with the following: </p><p style=\"font-size: 1.5em;\"><span style=\"font-weight: bold; color: #ee7171;\">Ball A</span> caused <span style=\"font-weight: bold; color: #6c6ce9;\">Ball B</span> to land in the pocket.</p>',\n '<p style=\"font-size: 1.5em;\"><span style=\"font-weight: bold; color: #ee7171;\">Ball A</span> seemed: </p>']"
     },
     "execution_count": 3,
     "metadata": {},
     "output_type": "execute_result"
    }
   ],
   "source": [
    "df['prompts'][0]"
   ],
   "metadata": {
    "collapsed": false,
    "pycharm": {
     "name": "#%%\n"
    }
   }
  },
  {
   "cell_type": "code",
   "execution_count": null,
   "outputs": [],
   "source": [],
   "metadata": {
    "collapsed": false,
    "pycharm": {
     "name": "#%%\n"
    }
   }
  }
 ],
 "metadata": {
  "kernelspec": {
   "name": "pycharm-662f1849",
   "language": "python",
   "display_name": "PyCharm (TheoryOfMindInferenceModels)"
  },
  "language_info": {
   "codemirror_mode": {
    "name": "ipython",
    "version": 2
   },
   "file_extension": ".py",
   "mimetype": "text/x-python",
   "name": "python",
   "nbconvert_exporter": "python",
   "pygments_lexer": "ipython2",
   "version": "2.7.6"
  }
 },
 "nbformat": 4,
 "nbformat_minor": 0
}